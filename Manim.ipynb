{
 "cells": [
  {
   "cell_type": "markdown",
   "id": "substantial-impact",
   "metadata": {},
   "source": [
    "# Welcome to Manim!"
   ]
  },
  {
   "cell_type": "markdown",
   "id": "first-armenia",
   "metadata": {},
   "source": [
    "This is a temporary test environment in which you can play around with Manim without the need of installing it locally. Some basic knowledge of Python is helpful! Keep in mind that this is a *temporary* environment, though: your changes will not be saved and cannot be shared with others. To save your work, you will need to download the notebook file (\"File > Download as > Notebook (.ipynb)\"). Enjoy!\n",
    "\n",
    "> *Useful resources:* [Documentation](https://docs.manim.community), [Discord](https://discord.gg/mMRrZQW), [Reddit](https://www.reddit.com/r/manim/)"
   ]
  },
  {
   "cell_type": "markdown",
   "id": "honest-cruise",
   "metadata": {},
   "source": [
    "## Setup"
   ]
  },
  {
   "cell_type": "markdown",
   "id": "governing-increase",
   "metadata": {},
   "source": [
    "We begin our short walkthrough by importing everything from the library. Run the following code cell to do so (focus the cell and hit the *Run* button above, or press `Shift`+`Enter` – you can find more information about how to navigate and work with Jupyter notebooks in the *Help* menu at the top of this page).\n",
    "\n",
    "The second line controls the maximum width used to display videos in this notebook, and the third line controls the verbosity of the log output. Feel free to adapt both of these settings to your liking."
   ]
  },
  {
   "cell_type": "code",
   "execution_count": null,
   "id": "wound-foundation",
   "metadata": {},
   "outputs": [],
   "source": [
    "from manim import *\n",
    "\n",
    "config.media_width = \"75%\"\n",
    "config.verbosity = \"WARNING\"\n",
    "config.media_embed=True\n",
    "config.background_color = \"#0d0c1a\"\n",
    "\n",
    "!mkdir -p ~/.local/share/fonts\n",
    "\n",
    "!curl -o Rubik.zip https://cdn.glitch.global/4d16ee61-20ed-43ad-9f34-e4ae6ec6666d/Rubik.zip?v=1718536526992\n",
    "!unzip -o Rubik.zip -d \"Rubik\"\n",
    "!mv Rubik/*ttf ~/.local/share/fonts/\n",
    "!fc-cache -f -v\n",
    "\n",
    "!curl -o Single+Day.zip https://cdn.glitch.global/00c5b312-7c23-48b1-af8f-a03b5f22ffd5/Single_Day.zip?v=1712100107504\n",
    "!unzip -o Single+Day.zip -d \"SingleDay\"\n",
    "!mv SingleDay/*ttf ~/.local/share/fonts/\n",
    "!fc-cache -f -v\n",
    "\n",
    "!curl -o DM+Serif+Text.zip https://cdn.glitch.global/00c5b312-7c23-48b1-af8f-a03b5f22ffd5/DM_Serif_Text.zip?v=1712107269827\n",
    "!unzip -o DM+Serif+Text.zip -d \"DMSerifText\"\n",
    "!cp DMSerifText/*ttf ~/.local/share/fonts/\n",
    "!fc-cache -f -v"
   ]
  },
  {
   "cell_type": "markdown",
   "id": "respected-copying",
   "metadata": {},
   "source": [
    "If you have executed the cell successfully, a message printing the installed version of the library should have appeared below it."
   ]
  }
 ],
 "metadata": {
  "kernelspec": {
   "display_name": "Python 3 (ipykernel)",
   "language": "python",
   "name": "python3"
  },
  "language_info": {
   "codemirror_mode": {
    "name": "ipython",
    "version": 3
   },
   "file_extension": ".py",
   "mimetype": "text/x-python",
   "name": "python",
   "nbconvert_exporter": "python",
   "pygments_lexer": "ipython3",
   "version": "3.9.9"
  }
 },
 "nbformat": 4,
 "nbformat_minor": 5
}
